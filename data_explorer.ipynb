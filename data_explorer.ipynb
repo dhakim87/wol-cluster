{
 "cells": [
  {
   "cell_type": "code",
   "execution_count": 14,
   "id": "6e4dcbd9",
   "metadata": {},
   "outputs": [],
   "source": [
    "from table_info import BiomTable, CSVTable\n",
    "from ipywidgets import interact, interactive, fixed, interact_manual\n",
    "import ipywidgets as widgets\n",
    "from IPython.display import display\n",
    "import test_linear_clustering\n",
    "from mpl_toolkits.mplot3d import Axes3D\n",
    "from matplotlib import pyplot as plt\n",
    "import pandas as pd\n",
    "\n",
    "from test_linear_clustering import recursive_subspacer, iterative_clustering, calc_projected, _fit_a_linear_subspace, _draw_subspace_line, _get_color\n",
    "from linear_subspace_clustering import linear_subspace_clustering\n",
    "from cluster_manager import ClusterManager, ClusterState, RecursiveClusterer\n",
    "import numpy as np\n",
    "import matplotlib\n",
    "import json"
   ]
  },
  {
   "cell_type": "code",
   "execution_count": 2,
   "id": "0e3d46db",
   "metadata": {},
   "outputs": [],
   "source": [
    "WOLTKA_METADATA_PATH=\"./woltka_metadata.tsv\"\n",
    "BIOM_TABLE=\"./dataset/biom/combined-none.biom\"\n",
    "DATA_TRANSFORM_PATH=\"./results/jupyter_interactive.json\"\n",
    "\n",
    "MIN_GENUS_COUNT = 500"
   ]
  },
  {
   "cell_type": "code",
   "execution_count": 3,
   "id": "4272a2e5",
   "metadata": {},
   "outputs": [],
   "source": [
    "woltka_meta_table = CSVTable(\"./woltka_metadata.tsv\", delimiter=\"\\t\")\n",
    "woltka_meta_df = woltka_meta_table.load_dataframe()\n",
    "\n",
    "bt = BiomTable(BIOM_TABLE)\n",
    "df = bt.load_dataframe()\n",
    "\n",
    "try:\n",
    "    with open(DATA_TRANSFORM_PATH) as infile:\n",
    "        data_transform = json.load(infile)\n",
    "except:\n",
    "    print(\"Couldn't open data transform, starting new data transform\")\n",
    "    data_transform = {}"
   ]
  },
  {
   "cell_type": "code",
   "execution_count": 4,
   "id": "a04b54ea",
   "metadata": {},
   "outputs": [],
   "source": [
    "def list_genera():\n",
    "    woltka_included = woltka_meta_df[woltka_meta_df['#genome'].isin(df.columns)]\n",
    "    vcs = woltka_included['genus'].value_counts()\n",
    "    genera = sorted(vcs[vcs>1].index.astype(str).tolist())\n",
    "    \n",
    "    filt_genera = []\n",
    "    for g in genera:\n",
    "        filtered_df = df[list_woltka_refs(g)['#genome']]\n",
    "        filtered_df_sum = filtered_df.sum(axis=1)\n",
    "        filtered_df = filtered_df[filtered_df_sum >= MIN_GENUS_COUNT]\n",
    "        if len(filtered_df) >= 10:\n",
    "            filt_genera.append(g)\n",
    "    return filt_genera\n",
    "\n",
    "def list_woltka_refs(genus):\n",
    "    woltka_included = woltka_meta_df[woltka_meta_df['#genome'].isin(df.columns)]\n",
    "    refs = woltka_included[woltka_included['genus']==genus]\n",
    "    \n",
    "    filtered_df = df[refs['#genome']]\n",
    "    col_sums = filtered_df.sum()\n",
    "    col_sums.name='total'\n",
    "    refs = refs.join(col_sums, on='#genome')\n",
    "    \n",
    "    refs = refs.reset_index()\n",
    "    refs = refs.sort_values([\"total\", \"#genome\"], ascending=False)[['total', '#genome','species']]\n",
    "    return refs"
   ]
  },
  {
   "cell_type": "code",
   "execution_count": 12,
   "id": "17190675-fdc6-419f-94aa-2529797859db",
   "metadata": {},
   "outputs": [],
   "source": [
    "def calc_subspace_bases(filtered_df, cluster_assignments, cluster_dims):\n",
    "    data = filtered_df.T.to_numpy()\n",
    "    labels = np.unique(cluster_assignments)\n",
    "\n",
    "    vecs = {}\n",
    "    for gg in labels:\n",
    "        pidx = np.where(cluster_assignments == gg)[0]\n",
    "        if gg == -1:\n",
    "            continue\n",
    "        subspace_basis_vectors = _fit_a_linear_subspace(data[:, pidx], cluster_dims[gg])\n",
    "        vecs[gg] = subspace_basis_vectors\n",
    "    return vecs\n",
    "\n",
    "def plot_scatter3(filtered_df, cluster_manager, title, c1, c2, c3, target_cluster=None):    \n",
    "    cs = cluster_manager.cluster_state\n",
    "    cluster_counts = cs.get_cluster_counts()\n",
    "    \n",
    "    if cs.num_clusters() > 0:\n",
    "        subspace_bases = calc_subspace_bases(filtered_df, cs.clusters, cs.cluster_dims)\n",
    "        subspace_bases = {x: pd.DataFrame(subspace_bases[x], index=filtered_df.columns) for x in subspace_bases}\n",
    "        all_proj = calc_projected(filtered_df, cs.clusters, subspace_bases)\n",
    "    elif state['genus'] in data_transform:\n",
    "        subspace_bases = data_transform[state['genus']]\n",
    "        subspace_bases = {i: pd.read_json(subspace_bases[i]) for i in range(len(subspace_bases))}\n",
    "    else:\n",
    "        subspace_bases = None\n",
    "\n",
    "    fig = plt.figure()\n",
    "    ax = fig.add_subplot(projection='3d')\n",
    "\n",
    "    maxx = max(filtered_df[c1])\n",
    "    maxy = max(filtered_df[c2])\n",
    "    maxz = max(filtered_df[c3])\n",
    "    \n",
    "    col1_index = filtered_df.columns.get_loc(c1)\n",
    "    col2_index = filtered_df.columns.get_loc(c2)\n",
    "    col3_index = filtered_df.columns.get_loc(c3)\n",
    "\n",
    "    if target_cluster is not None:\n",
    "        pidx = np.where(cs.clusters == target_cluster)[0]\n",
    "        cdf = filtered_df.iloc[pidx]\n",
    "        maxx = max(cdf[c1])\n",
    "        maxy = max(cdf[c2])\n",
    "        maxz = max(cdf[c3])\n",
    "\n",
    "    if subspace_bases is not None:\n",
    "        min_label = -1\n",
    "        if -1 not in cluster_counts or cluster_counts[-1] == 0:\n",
    "            min_label = 0\n",
    "        max_label = max(subspace_bases)\n",
    "\n",
    "        x = np.linspace(0, maxx, 10)\n",
    "        y = np.linspace(0, maxy, 10)\n",
    "\n",
    "        for label in subspace_bases:\n",
    "            dim = subspace_bases[label].shape[1]\n",
    "            if dim == 1:\n",
    "                u = subspace_bases[label].iloc[:,0].loc[[c1,c2,c3]]\n",
    "                _draw_subspace_line(ax,u,maxx,maxy,maxz,label,min_label,max_label)\n",
    "            if dim == 2:\n",
    "                # the basis vectors are orthogonal\n",
    "                # But when you project them down to this space, their projections may not be orthogonal\n",
    "                # They could even be parallel, or even 0 (Take u,v = 0,0,1,-1 and 0,0,1,1 projected to first three dimensions)\n",
    "                # If they are parallel, we should be drawing a line, not a plane\n",
    "                # If they are 0, we should just draw a single point (happens to be at the origin\n",
    "                u = subspace_bases[label].iloc[:,0].loc[[c1,c2,c3]]\n",
    "                v = subspace_bases[label].iloc[:,1].loc[[c1,c2,c3]]\n",
    "\n",
    "                npu = np.array(u)\n",
    "                npv = np.array(v)\n",
    "                lenu = np.linalg.norm(u)\n",
    "                lenv = np.linalg.norm(v)\n",
    "                if lenu < 0.01 and lenv < 0.01:\n",
    "                    # Both of the vectors are basically 0.  Can't draw anything.\n",
    "                    continue\n",
    "                elif lenu < 0.01:\n",
    "                    _draw_subspace_line(ax, v, maxx,maxy,maxz, label, min_label, max_label)\n",
    "                    continue\n",
    "                elif lenv < 0.01:\n",
    "                    _draw_subspace_line(ax, u, maxx,maxy,maxz, label, min_label, max_label)\n",
    "                    continue\n",
    "\n",
    "                npu = npu / lenu\n",
    "                npv = npv / lenv\n",
    "\n",
    "                dotproduct = np.dot(npu,npv)\n",
    "                if dotproduct > 0.9 or dotproduct < -0.9:\n",
    "                    print(dotproduct)\n",
    "                    # Vectors are basically parallel.  Can't draw a plane, maybe can draw a line.\n",
    "                    if dotproduct < 0:\n",
    "                        npu = -npu\n",
    "                    npu = (npu + npv) / 2\n",
    "                    _draw_subspace_line(ax, npu, maxx, maxy, maxz, label, min_label, max_label)\n",
    "                    continue\n",
    "\n",
    "                normal = np.cross(u.T, v.T)\n",
    "                # Normal vector gives x*n0 + y*n1 + z*n2 = 0\n",
    "                # Divide everything by n2\n",
    "                # x * n0/n2 + y * n1/n2 + z = 0\n",
    "                # z = -n0/n2 * x - n1 / n2 * y\n",
    "                X, Y = np.meshgrid(x,y)\n",
    "                Z = -normal[0]/normal[2] * X - normal[1] / normal[2] * Y\n",
    "                rgba = _get_color(label, min_label, max_label)\n",
    "                rgba = rgba[0],rgba[1],rgba[2],0.25\n",
    "                surf = ax.plot_surface(X, Y, Z, color=rgba)\n",
    "\n",
    "\n",
    "    if target_cluster is None:\n",
    "        ax.scatter(filtered_df[c1], filtered_df[c2], filtered_df[c3], c=cs.clusters, cmap=\"Set1\")\n",
    "        if cs.num_clusters() > 0:\n",
    "            projected = all_proj\n",
    "            ax.scatter(projected[col1_index], projected[col2_index], projected[col3_index], c=cs.clusters, marker='x', cmap='Set1')\n",
    "    elif target_cluster is not None:\n",
    "        pidx = np.where(cs.clusters == target_cluster)[0]\n",
    "        cdf = filtered_df.iloc[pidx]\n",
    "        rgba = _get_color(target_cluster, min_label, max_label)\n",
    "        ax.scatter(cdf[c1], cdf[c2], cdf[c3], c=[rgba])\n",
    "        if cs.num_clusters() > 0:\n",
    "            projected = all_proj[:,pidx]\n",
    "            ax.scatter(projected[col1_index], projected[col2_index], projected[col3_index], c=[rgba], marker='x')\n",
    "\n",
    "    if subspace_bases is not None:\n",
    "        patches = []\n",
    "        for label in cs.cluster_dims:\n",
    "            rgba = _get_color(label, min_label, max_label)\n",
    "            patch = matplotlib.patches.Patch(\n",
    "                color=rgba,\n",
    "                label=str(label) +\n",
    "                      \": dim=\" + str(cs.cluster_dims[label]) +\n",
    "                      \"#fit=\" + str(cluster_counts[label]))\n",
    "            patches.append(patch)\n",
    "\n",
    "    plt.title(title)\n",
    "    ax.set_xlabel(c1)\n",
    "    ax.set_ylabel(c2)\n",
    "    ax.set_zlabel(c3)\n",
    "    ax.set_xlim([0, maxx * 1.5 + 100])\n",
    "    ax.set_ylim([0, maxy * 1.5 + 100])\n",
    "    ax.set_zlim([0, maxz * 1.5 + 100])\n",
    "    if subspace_bases is not None:\n",
    "        plt.legend(handles=patches)\n",
    "    plt.show()"
   ]
  },
  {
   "cell_type": "code",
   "execution_count": 11,
   "id": "2cf9b59e",
   "metadata": {},
   "outputs": [
    {
     "name": "stdout",
     "output_type": "stream",
     "text": [
      "()\n",
      "Built Choices\n",
      "Filtered DF\n",
      "Created State\n"
     ]
    },
    {
     "data": {
      "application/vnd.jupyter.widget-view+json": {
       "model_id": "266d836a95454ecb8c012583f69378d3",
       "version_major": 2,
       "version_minor": 0
      },
      "text/plain": [
       "Dropdown(options=('Acetivibrio', 'Acetobacter', 'Acidaminococcus', 'Acinetobacter', 'Actinomyces', 'Akkermansi…"
      ]
     },
     "metadata": {},
     "output_type": "display_data"
    },
    {
     "data": {
      "application/vnd.jupyter.widget-view+json": {
       "model_id": "7dd1160f894540fe8762c16a2d42a19d",
       "version_major": 2,
       "version_minor": 0
      },
      "text/plain": [
       "Dropdown(layout=Layout(width='50%'), options=(('Acetivibrio ethanolgignens(G001461035)', 'G001461035'), ('Acet…"
      ]
     },
     "metadata": {},
     "output_type": "display_data"
    },
    {
     "data": {
      "application/vnd.jupyter.widget-view+json": {
       "model_id": "c4c872536b914720951f3ac505f5c355",
       "version_major": 2,
       "version_minor": 0
      },
      "text/plain": [
       "Dropdown(index=1, layout=Layout(width='50%'), options=(('Acetivibrio ethanolgignens(G001461035)', 'G001461035'…"
      ]
     },
     "metadata": {},
     "output_type": "display_data"
    },
    {
     "data": {
      "application/vnd.jupyter.widget-view+json": {
       "model_id": "d53dbbf9bff04353aa0e935eb2b1e89a",
       "version_major": 2,
       "version_minor": 0
      },
      "text/plain": [
       "Dropdown(index=1, layout=Layout(width='50%'), options=(('Acetivibrio ethanolgignens(G001461035)', 'G001461035'…"
      ]
     },
     "metadata": {},
     "output_type": "display_data"
    },
    {
     "data": {
      "application/vnd.jupyter.widget-view+json": {
       "model_id": "d02e99ba9df845449289672a41b7c880",
       "version_major": 2,
       "version_minor": 0
      },
      "text/plain": [
       "Button(description='Plot', style=ButtonStyle())"
      ]
     },
     "metadata": {},
     "output_type": "display_data"
    },
    {
     "data": {
      "application/vnd.jupyter.widget-view+json": {
       "model_id": "59439478b52e4a588de64f8db8fc1a71",
       "version_major": 2,
       "version_minor": 0
      },
      "text/plain": [
       "Button(description='Calculate', style=ButtonStyle())"
      ]
     },
     "metadata": {},
     "output_type": "display_data"
    },
    {
     "data": {
      "application/vnd.jupyter.widget-view+json": {
       "model_id": "771bcf0c05bf4f438fa4b6c11665a0a2",
       "version_major": 2,
       "version_minor": 0
      },
      "text/plain": [
       "Button(description='Save', style=ButtonStyle())"
      ]
     },
     "metadata": {},
     "output_type": "display_data"
    },
    {
     "data": {
      "application/vnd.jupyter.widget-view+json": {
       "model_id": "d445a508ee0442d692316fbc61728ecd",
       "version_major": 2,
       "version_minor": 0
      },
      "text/plain": [
       "Output()"
      ]
     },
     "metadata": {},
     "output_type": "display_data"
    }
   ],
   "source": [
    "genus_widget = widgets.Dropdown(options=list_genera())\n",
    "\n",
    "axis1 = widgets.Dropdown(layout=widgets.Layout(width='50%'))\n",
    "axis2 = widgets.Dropdown(layout=widgets.Layout(width='50%'))\n",
    "axis3 = widgets.Dropdown(layout=widgets.Layout(width='50%'))\n",
    "\n",
    "plot = widgets.Button(description='Plot')\n",
    "calculate = widgets.Button(description='Calculate')\n",
    "save = widgets.Button(description='Save')\n",
    "output = widgets.Output()\n",
    "\n",
    "\n",
    "state = {}\n",
    "\n",
    "# Define a function that updates the content of y based on what we select for x\n",
    "def update_genus(*args):\n",
    "    genus = genus_widget.value\n",
    "    refs_df = list_woltka_refs(genus)\n",
    "    genomes = refs_df['#genome'].tolist()\n",
    "    species = refs_df['species'].tolist()\n",
    "    choices = []\n",
    "    for i in range(len(genomes)):\n",
    "        choices.append((species[i] + \"(\" + genomes[i] + \")\", genomes[i]))\n",
    "    \n",
    "    axis1.options = choices\n",
    "    axis2.options = choices\n",
    "    axis3.options = choices\n",
    "    axis1.value = genomes[min(0, len(genomes)-1)]\n",
    "    axis2.value = genomes[min(1, len(genomes)-1)]\n",
    "    axis3.value = genomes[min(2, len(genomes)-1)]\n",
    "    \n",
    "    filtered_df = df[genomes]\n",
    "    filtered_df_sum = filtered_df.sum(axis=1)\n",
    "    filtered_df = filtered_df[filtered_df_sum >= MIN_GENUS_COUNT]\n",
    "\n",
    "    state.clear()\n",
    "    state[\"genus\"] = genus\n",
    "    state[\"filtered_df\"] = filtered_df\n",
    "    state[\"cluster_manager\"] = ClusterManager(filtered_df, filtered_df.shape[1])\n",
    "    state[\"breakdown\"] = data_transform.get(genus)\n",
    "\n",
    "    with output:\n",
    "        output.clear_output()\n",
    "        if len(genomes) < 2:\n",
    "            print(genus, \"Not enough reference genomes to do clustering\\n\")\n",
    "            calculate.disabled=True\n",
    "        elif len(filtered_df) <= 10:\n",
    "            print(genus, \"Not enough reads to do clustering\\n\")\n",
    "            calculate.disabled=True\n",
    "        else:\n",
    "            calculate.disabled=False\n",
    "\n",
    "genus_widget.observe(update_genus, names='value')\n",
    "update_genus()\n",
    "\n",
    "display(genus_widget)\n",
    "display(axis1)\n",
    "display(axis2)\n",
    "display(axis3)\n",
    "display(plot)\n",
    "display(calculate)\n",
    "display(save)\n",
    "display(output)\n",
    "\n",
    "def plot_click(button):\n",
    "    filtered_df = state[\"filtered_df\"]\n",
    "    plot_scatter3(\n",
    "        state[\"filtered_df\"], \n",
    "        state.get(\"cluster_manager\"), \n",
    "        state[\"genus\"],\n",
    "        axis1.value,\n",
    "        axis2.value,\n",
    "        axis3.value\n",
    "    )\n",
    "\n",
    "def calculate_click(button):    \n",
    "    to_cluster = state[\"filtered_df\"]\n",
    "    state[\"cluster_manager\"] = ClusterManager(to_cluster, to_cluster.shape[1])\n",
    "    rc = RecursiveClusterer()\n",
    "    rc.run(state[\"cluster_manager\"])\n",
    "    \n",
    "    state[\"clusterer\"] = rc\n",
    "    \n",
    "def save_click(button):\n",
    "    genus = state[\"genus\"]\n",
    "    filtered_df = state[\"filtered_df\"]\n",
    "    cm = state[\"cluster_manager\"]\n",
    "    cs = cm.cluster_state\n",
    "    \n",
    "    subspace_bases = calc_subspace_bases(filtered_df, cs.clusters, cs.cluster_dims)\n",
    "    print(subspace_bases)\n",
    "        \n",
    "    surfaces = []\n",
    "    for key in subspace_bases:\n",
    "        basis = subspace_bases[key]\n",
    "        basis_df = pd.DataFrame(basis, index=filtered_df.columns)\n",
    "        surfaces.append(basis_df.to_json())\n",
    "\n",
    "    data_transform[genus] = surfaces\n",
    "\n",
    "    with open(DATA_TRANSFORM_PATH, 'w') as outfile:\n",
    "        print(\"Saving to: \" + DATA_TRANSFORM_PATH)\n",
    "        json.dump(data_transform, outfile)\n",
    "\n",
    "plot.on_click(plot_click)\n",
    "calculate.on_click(calculate_click)\n",
    "save.on_click(save_click)"
   ]
  },
  {
   "cell_type": "code",
   "execution_count": 15,
   "id": "8bfb7f70-0a9d-4fd8-a571-ae4402428fed",
   "metadata": {},
   "outputs": [
    {
     "data": {
      "application/vnd.jupyter.widget-view+json": {
       "model_id": "cf1c166ec1574783bf30cde71bc99ee1",
       "version_major": 2,
       "version_minor": 0
      },
      "text/plain": [
       "Text(value='', layout=Layout(width='80%'), placeholder='split 1 2')"
      ]
     },
     "metadata": {},
     "output_type": "display_data"
    },
    {
     "data": {
      "application/vnd.jupyter.widget-view+json": {
       "model_id": "89e8ce656f3a4041a5ef9488e386a652",
       "version_major": 2,
       "version_minor": 0
      },
      "text/plain": [
       "Button(description='Run Command', style=ButtonStyle())"
      ]
     },
     "metadata": {},
     "output_type": "display_data"
    }
   ],
   "source": [
    "def cluster_run_click(button):\n",
    "    cmd = cluster_command.value\n",
    "    ss = cmd.split()\n",
    "    if ss[0] == 'split':\n",
    "        cluster_id = int(ss[1])\n",
    "        cluster_pieces = int(ss[2])\n",
    "        state[\"cluster_manager\"].get_split_cluster(cluster_id, cluster_pieces).apply()\n",
    "        state[\"cluster_manager\"].finalize()\n",
    "    elif ss[0] == 'delete' or ss[0] == 'del':\n",
    "        cluster_id = int(ss[1])\n",
    "        state[\"cluster_manager\"].get_delete_cluster(cluster_id).apply()\n",
    "        state[\"cluster_manager\"].finalize()\n",
    "    else:\n",
    "        print(\"Unsupported Command\")\n",
    "\n",
    "cluster_command = widgets.Text(layout=widgets.Layout(width='80%'), placeholder='split 1 2')\n",
    "cluster_run = widgets.Button(description='Run Command')\n",
    "\n",
    "display(cluster_command)\n",
    "display(cluster_run)\n",
    "\n",
    "cluster_run.on_click(cluster_run_click)\n"
   ]
  },
  {
   "cell_type": "code",
   "execution_count": 8,
   "id": "568a3879-ff0d-4342-a9a1-6b81f5175528",
   "metadata": {},
   "outputs": [
    {
     "data": {
      "text/plain": [
       "{-1: 2}"
      ]
     },
     "execution_count": 8,
     "metadata": {},
     "output_type": "execute_result"
    }
   ],
   "source": [
    "state[\"cluster_manager\"].cluster_state.cluster_dims"
   ]
  },
  {
   "cell_type": "code",
   "execution_count": null,
   "id": "2400498b-2641-4b4d-bd37-b478de01b67e",
   "metadata": {},
   "outputs": [],
   "source": []
  }
 ],
 "metadata": {
  "kernelspec": {
   "display_name": "Python 3 (ipykernel)",
   "language": "python",
   "name": "python3"
  },
  "language_info": {
   "codemirror_mode": {
    "name": "ipython",
    "version": 3
   },
   "file_extension": ".py",
   "mimetype": "text/x-python",
   "name": "python",
   "nbconvert_exporter": "python",
   "pygments_lexer": "ipython3",
   "version": "3.8.13"
  }
 },
 "nbformat": 4,
 "nbformat_minor": 5
}
